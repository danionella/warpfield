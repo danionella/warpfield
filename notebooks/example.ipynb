{
 "cells": [
  {
   "cell_type": "code",
   "execution_count": null,
   "id": "0",
   "metadata": {},
   "outputs": [],
   "source": [
    "# colab users (only): install warpfield with pip\n",
    "!pip -q install warpfield"
   ]
  },
  {
   "cell_type": "code",
   "execution_count": null,
   "id": "1",
   "metadata": {},
   "outputs": [],
   "source": [
    "# download some example data (see https://github.com/andreasmang/nirep)\n",
    "!wget -nv https://github.com/andreasmang/nirep/raw/refs/heads/master/nifti/na01.nii.gz\n",
    "!wget -nv https://github.com/andreasmang/nirep/raw/refs/heads/master/nifti/na15.nii.gz"
   ]
  },
  {
   "cell_type": "code",
   "execution_count": null,
   "id": "2",
   "metadata": {},
   "outputs": [],
   "source": [
    "import warpfield"
   ]
  },
  {
   "cell_type": "code",
   "execution_count": null,
   "id": "3",
   "metadata": {},
   "outputs": [],
   "source": [
    "# load data\n",
    "fixed, _ = warpfield.load_data(\"na01.nii.gz\")\n",
    "moving, _ = warpfield.load_data(\"na15.nii.gz\")"
   ]
  },
  {
   "cell_type": "code",
   "execution_count": null,
   "id": "4",
   "metadata": {},
   "outputs": [],
   "source": [
    "# inspect data\n",
    "from matplotlib import pyplot as plt\n",
    "plt.figure()\n",
    "fig, ax = plt.subplots(1, 2, figsize=(10, 5))\n",
    "ax[0].imshow(fixed.mean(0), cmap=\"gray\")\n",
    "ax[0].set_title(\"fixed\")\n",
    "ax[1].imshow(moving.mean(0), cmap=\"gray\")\n",
    "ax[1].set_title(\"moving\")"
   ]
  },
  {
   "cell_type": "code",
   "execution_count": null,
   "id": "5",
   "metadata": {},
   "outputs": [],
   "source": [
    "# create a basic recipe:\n",
    "recipe = warpfield.Recipe()\n",
    "recipe.pre_filter.clip_thresh = 0  # clip DC background, if present\n",
    "\n",
    "# translation level properties\n",
    "recipe.levels[0].project.max = False\n",
    "\n",
    "# affine level properties\n",
    "recipe.levels[-1].block_stride = 0.5\n",
    "recipe.levels[-1].project.max = False\n",
    "recipe.levels[-1].repeats = 10\n",
    "\n",
    "# add non-rigid registration levels:\n",
    "recipe.add_level(block_size=[128, 128, 128])\n",
    "recipe.levels[-1].smooth.sigmas = [1.0, 1.0, 1.0]\n",
    "recipe.levels[-1].repeats = 5\n",
    "\n",
    "recipe.add_level(block_size=[64, 64, 64])\n",
    "recipe.levels[-1].block_stride = 0.5\n",
    "recipe.levels[-1].smooth.sigmas = [1.0, 1.0, 1.0]\n",
    "recipe.levels[-1].repeats = 5\n",
    "\n",
    "recipe.add_level(block_size=[32, 32, 32])\n",
    "recipe.levels[-1].block_stride = 0.5\n",
    "recipe.levels[-1].smooth.sigmas = [2.0, 2.0, 2.0]\n",
    "recipe.levels[-1].repeats = 5"
   ]
  },
  {
   "cell_type": "code",
   "execution_count": null,
   "id": "6",
   "metadata": {},
   "outputs": [],
   "source": [
    "# register (the first run might take a few seconds longer to compile CUDA kernels)\n",
    "moving_reg, warpmap, _ = warpfield.register_volumes(fixed, moving, recipe)"
   ]
  },
  {
   "cell_type": "code",
   "execution_count": null,
   "id": "7",
   "metadata": {},
   "outputs": [],
   "source": [
    "# register (with MIP video)\n",
    "video_path = \"output.mp4\"\n",
    "units_per_voxel = [1,1,1]\n",
    "callback = warpfield.utils.mips_callback(units_per_voxel=units_per_voxel)\n",
    "moving_reg, warpmap, _ = warpfield.register_volumes(fixed, moving, recipe, video_path=video_path, callback=callback)\n",
    "warpfield.utils.showvid(video_path, embed=True)"
   ]
  },
  {
   "cell_type": "code",
   "execution_count": null,
   "id": "8",
   "metadata": {},
   "outputs": [],
   "source": [
    "# register (with slice mosaic video)\n",
    "video_path = \"output.mp4\"\n",
    "units_per_voxel = [1, 1, 1]\n",
    "callback = warpfield.utils.mosaic_callback(units_per_voxel=units_per_voxel, axis=0, num_slices=9)\n",
    "moving_reg, warpmap, _ = warpfield.register_volumes(fixed, moving, recipe, video_path=video_path, callback=callback)\n",
    "warpfield.utils.showvid(video_path, embed=True)"
   ]
  },
  {
   "cell_type": "code",
   "execution_count": null,
   "id": "9",
   "metadata": {},
   "outputs": [],
   "source": []
  }
 ],
 "metadata": {
  "accelerator": "GPU",
  "kernelspec": {
   "display_name": "warpfield",
   "language": "python",
   "name": "python3"
  },
  "language_info": {
   "codemirror_mode": {
    "name": "ipython",
    "version": 3
   },
   "file_extension": ".py",
   "mimetype": "text/x-python",
   "name": "python",
   "nbconvert_exporter": "python",
   "pygments_lexer": "ipython3",
   "version": "3.10.17"
  }
 },
 "nbformat": 4,
 "nbformat_minor": 5
}
